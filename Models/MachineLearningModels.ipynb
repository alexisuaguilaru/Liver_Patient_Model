{
 "cells": [
  {
   "cell_type": "markdown",
   "id": "9675850f",
   "metadata": {},
   "source": [
    "# Introduction"
   ]
  },
  {
   "cell_type": "markdown",
   "id": "c10c55ac",
   "metadata": {},
   "source": []
  },
  {
   "cell_type": "markdown",
   "id": "9da2e0f1",
   "metadata": {},
   "source": [
    "# 0. Importing Libraries and Other Code"
   ]
  },
  {
   "cell_type": "code",
   "execution_count": 1,
   "id": "685f1c99",
   "metadata": {},
   "outputs": [],
   "source": [
    "import pandas as pd\n",
    "import numpy as np"
   ]
  },
  {
   "cell_type": "code",
   "execution_count": 4,
   "id": "2a1c3cea",
   "metadata": {},
   "outputs": [],
   "source": [
    "# Relevant variables\n",
    "\n",
    "URL_DATASET = \"../Datasets/\"\n",
    "\n",
    "Features = ['age','gender','tot_bilirubin','direct_bilirubin','alkphos','sgpt','sgot','tot_proteins','albumin','ag_ratio']\n",
    "Target = 'is_patient'"
   ]
  },
  {
   "cell_type": "code",
   "execution_count": 5,
   "id": "85003448",
   "metadata": {},
   "outputs": [],
   "source": [
    "# Auxiliar variables\n",
    "\n",
    "RANDOM_STATE = 8013"
   ]
  },
  {
   "cell_type": "markdown",
   "id": "2a4df164",
   "metadata": {},
   "source": [
    "## 0.1 Defining Utilities Functions"
   ]
  },
  {
   "cell_type": "code",
   "execution_count": 6,
   "id": "9aba5957",
   "metadata": {},
   "outputs": [],
   "source": [
    "def SplitFeaturesUsingDatatype(Dataset:pd.DataFrame,Features:list[str]):\n",
    "    continuous , integer , categorical = [] , [] , []\n",
    "    \n",
    "    for feature in Features:\n",
    "        if (data_type:=Dataset[feature].dtype) == 'float':\n",
    "            continuous.append(feature)\n",
    "        elif data_type == 'int':\n",
    "            integer.append(feature)\n",
    "        else:\n",
    "            categorical.append(feature)\n",
    "    \n",
    "    return continuous , integer , categorical"
   ]
  },
  {
   "cell_type": "markdown",
   "id": "da8060ee",
   "metadata": {},
   "source": [
    "# 1. Load Dataset"
   ]
  },
  {
   "cell_type": "code",
   "execution_count": null,
   "id": "718c3541",
   "metadata": {},
   "outputs": [
    {
     "data": {
      "text/html": [
       "<div>\n",
       "<style scoped>\n",
       "    .dataframe tbody tr th:only-of-type {\n",
       "        vertical-align: middle;\n",
       "    }\n",
       "\n",
       "    .dataframe tbody tr th {\n",
       "        vertical-align: top;\n",
       "    }\n",
       "\n",
       "    .dataframe thead th {\n",
       "        text-align: right;\n",
       "    }\n",
       "</style>\n",
       "<table border=\"1\" class=\"dataframe\">\n",
       "  <thead>\n",
       "    <tr style=\"text-align: right;\">\n",
       "      <th></th>\n",
       "      <th>age</th>\n",
       "      <th>gender</th>\n",
       "      <th>tot_bilirubin</th>\n",
       "      <th>direct_bilirubin</th>\n",
       "      <th>alkphos</th>\n",
       "      <th>sgpt</th>\n",
       "      <th>sgot</th>\n",
       "      <th>tot_proteins</th>\n",
       "      <th>albumin</th>\n",
       "      <th>ag_ratio</th>\n",
       "      <th>is_patient</th>\n",
       "    </tr>\n",
       "  </thead>\n",
       "  <tbody>\n",
       "    <tr>\n",
       "      <th>0</th>\n",
       "      <td>65</td>\n",
       "      <td>Female</td>\n",
       "      <td>0.7</td>\n",
       "      <td>0.1</td>\n",
       "      <td>187</td>\n",
       "      <td>16</td>\n",
       "      <td>18</td>\n",
       "      <td>6.8</td>\n",
       "      <td>3.3</td>\n",
       "      <td>0.90</td>\n",
       "      <td>Yes</td>\n",
       "    </tr>\n",
       "    <tr>\n",
       "      <th>1</th>\n",
       "      <td>62</td>\n",
       "      <td>Male</td>\n",
       "      <td>10.9</td>\n",
       "      <td>5.5</td>\n",
       "      <td>699</td>\n",
       "      <td>64</td>\n",
       "      <td>100</td>\n",
       "      <td>7.5</td>\n",
       "      <td>3.2</td>\n",
       "      <td>0.74</td>\n",
       "      <td>Yes</td>\n",
       "    </tr>\n",
       "    <tr>\n",
       "      <th>2</th>\n",
       "      <td>62</td>\n",
       "      <td>Male</td>\n",
       "      <td>7.3</td>\n",
       "      <td>4.1</td>\n",
       "      <td>490</td>\n",
       "      <td>60</td>\n",
       "      <td>68</td>\n",
       "      <td>7.0</td>\n",
       "      <td>3.3</td>\n",
       "      <td>0.89</td>\n",
       "      <td>Yes</td>\n",
       "    </tr>\n",
       "    <tr>\n",
       "      <th>3</th>\n",
       "      <td>58</td>\n",
       "      <td>Male</td>\n",
       "      <td>1.0</td>\n",
       "      <td>0.4</td>\n",
       "      <td>182</td>\n",
       "      <td>14</td>\n",
       "      <td>20</td>\n",
       "      <td>6.8</td>\n",
       "      <td>3.4</td>\n",
       "      <td>1.00</td>\n",
       "      <td>Yes</td>\n",
       "    </tr>\n",
       "    <tr>\n",
       "      <th>4</th>\n",
       "      <td>72</td>\n",
       "      <td>Male</td>\n",
       "      <td>3.9</td>\n",
       "      <td>2.0</td>\n",
       "      <td>195</td>\n",
       "      <td>27</td>\n",
       "      <td>59</td>\n",
       "      <td>7.3</td>\n",
       "      <td>2.4</td>\n",
       "      <td>0.40</td>\n",
       "      <td>Yes</td>\n",
       "    </tr>\n",
       "  </tbody>\n",
       "</table>\n",
       "</div>"
      ],
      "text/plain": [
       "   age  gender  tot_bilirubin  direct_bilirubin  alkphos  sgpt  sgot  \\\n",
       "0   65  Female            0.7               0.1      187    16    18   \n",
       "1   62    Male           10.9               5.5      699    64   100   \n",
       "2   62    Male            7.3               4.1      490    60    68   \n",
       "3   58    Male            1.0               0.4      182    14    20   \n",
       "4   72    Male            3.9               2.0      195    27    59   \n",
       "\n",
       "   tot_proteins  albumin  ag_ratio is_patient  \n",
       "0           6.8      3.3      0.90        Yes  \n",
       "1           7.5      3.2      0.74        Yes  \n",
       "2           7.0      3.3      0.89        Yes  \n",
       "3           6.8      3.4      1.00        Yes  \n",
       "4           7.3      2.4      0.40        Yes  "
      ]
     },
     "execution_count": 3,
     "metadata": {},
     "output_type": "execute_result"
    }
   ],
   "source": [
    "# Loading dataset\n",
    "\n",
    "LiverDataset = pd.read_csv(URL_DATASET+'IndianLiverPatientDataset_Clean01.csv',index_col=None)\n",
    "\n",
    "LiverDataset.head(5)"
   ]
  },
  {
   "cell_type": "code",
   "execution_count": 7,
   "id": "eba76b56",
   "metadata": {},
   "outputs": [],
   "source": [
    "# Splitting features based on its data types\n",
    "\n",
    "ContinuousFeatures , IntegerFeatures , CategoricalFeatures = SplitFeaturesUsingDatatype(LiverDataset,Features)"
   ]
  }
 ],
 "metadata": {
  "kernelspec": {
   "display_name": "data_science",
   "language": "python",
   "name": "python3"
  },
  "language_info": {
   "codemirror_mode": {
    "name": "ipython",
    "version": 3
   },
   "file_extension": ".py",
   "mimetype": "text/x-python",
   "name": "python",
   "nbconvert_exporter": "python",
   "pygments_lexer": "ipython3",
   "version": "3.12.5"
  }
 },
 "nbformat": 4,
 "nbformat_minor": 5
}
