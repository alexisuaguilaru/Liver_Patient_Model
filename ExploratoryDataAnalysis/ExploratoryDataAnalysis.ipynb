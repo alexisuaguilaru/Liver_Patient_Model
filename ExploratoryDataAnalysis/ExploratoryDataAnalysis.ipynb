{
 "cells": [
  {
   "cell_type": "markdown",
   "id": "e38c0a7b",
   "metadata": {},
   "source": [
    "# Introduction"
   ]
  },
  {
   "cell_type": "markdown",
   "id": "f86fbe93",
   "metadata": {},
   "source": []
  },
  {
   "cell_type": "markdown",
   "id": "e987474b",
   "metadata": {},
   "source": [
    "# 0. Importing Libraries and Other Code"
   ]
  },
  {
   "cell_type": "code",
   "execution_count": null,
   "id": "d2e0d259",
   "metadata": {},
   "outputs": [],
   "source": [
    "# Import libraries\n",
    "\n",
    "import pandas as pd\n",
    "import numpy as np\n",
    "\n",
    "import seaborn as sns\n",
    "import matplotlib.pyplot as plt"
   ]
  },
  {
   "cell_type": "code",
   "execution_count": 8,
   "id": "cbeec033",
   "metadata": {},
   "outputs": [],
   "source": [
    "# Relevant variables\n",
    "\n",
    "URL_DATASET = \"../Datasets/\"\n",
    "\n",
    "Features = ['age','gender','tot_bilirubin','direct_bilirubin','alkphos','sgpt','sgot','tot_proteins','albumin','ag_ratio']\n",
    "Target = 'is_patient'"
   ]
  },
  {
   "cell_type": "markdown",
   "id": "3482b88a",
   "metadata": {},
   "source": [
    "# 1. Load Dataset and First Exploration"
   ]
  },
  {
   "cell_type": "markdown",
   "id": "f7fb097c",
   "metadata": {},
   "source": [
    "This section deals with data loading, the renaming of the dataset attributes and a first exploration of the dataset for missing values or incorrect data types.\n",
    "\n",
    "It was detected that there are 4 missing values in the ``ag_ratio`` attribute and the values of the ``is_patient`` target were transformed to a more understandable convention in its values."
   ]
  },
  {
   "cell_type": "markdown",
   "id": "c09564f2",
   "metadata": {},
   "source": [
    "First load the data set and rename the columns to use the attribute names in [Technical Requirements](../TechnicalRequirements.pdf)."
   ]
  },
  {
   "cell_type": "code",
   "execution_count": null,
   "id": "5541a21c",
   "metadata": {},
   "outputs": [
    {
     "data": {
      "text/html": [
       "<div>\n",
       "<style scoped>\n",
       "    .dataframe tbody tr th:only-of-type {\n",
       "        vertical-align: middle;\n",
       "    }\n",
       "\n",
       "    .dataframe tbody tr th {\n",
       "        vertical-align: top;\n",
       "    }\n",
       "\n",
       "    .dataframe thead th {\n",
       "        text-align: right;\n",
       "    }\n",
       "</style>\n",
       "<table border=\"1\" class=\"dataframe\">\n",
       "  <thead>\n",
       "    <tr style=\"text-align: right;\">\n",
       "      <th></th>\n",
       "      <th>age</th>\n",
       "      <th>gender</th>\n",
       "      <th>tot_bilirubin</th>\n",
       "      <th>direct_bilirubin</th>\n",
       "      <th>alkphos</th>\n",
       "      <th>sgpt</th>\n",
       "      <th>sgot</th>\n",
       "      <th>tot_proteins</th>\n",
       "      <th>albumin</th>\n",
       "      <th>ag_ratio</th>\n",
       "      <th>is_patient</th>\n",
       "    </tr>\n",
       "  </thead>\n",
       "  <tbody>\n",
       "    <tr>\n",
       "      <th>0</th>\n",
       "      <td>65</td>\n",
       "      <td>Female</td>\n",
       "      <td>0.7</td>\n",
       "      <td>0.1</td>\n",
       "      <td>187</td>\n",
       "      <td>16</td>\n",
       "      <td>18</td>\n",
       "      <td>6.8</td>\n",
       "      <td>3.3</td>\n",
       "      <td>0.90</td>\n",
       "      <td>1</td>\n",
       "    </tr>\n",
       "    <tr>\n",
       "      <th>1</th>\n",
       "      <td>62</td>\n",
       "      <td>Male</td>\n",
       "      <td>10.9</td>\n",
       "      <td>5.5</td>\n",
       "      <td>699</td>\n",
       "      <td>64</td>\n",
       "      <td>100</td>\n",
       "      <td>7.5</td>\n",
       "      <td>3.2</td>\n",
       "      <td>0.74</td>\n",
       "      <td>1</td>\n",
       "    </tr>\n",
       "    <tr>\n",
       "      <th>2</th>\n",
       "      <td>62</td>\n",
       "      <td>Male</td>\n",
       "      <td>7.3</td>\n",
       "      <td>4.1</td>\n",
       "      <td>490</td>\n",
       "      <td>60</td>\n",
       "      <td>68</td>\n",
       "      <td>7.0</td>\n",
       "      <td>3.3</td>\n",
       "      <td>0.89</td>\n",
       "      <td>1</td>\n",
       "    </tr>\n",
       "    <tr>\n",
       "      <th>3</th>\n",
       "      <td>58</td>\n",
       "      <td>Male</td>\n",
       "      <td>1.0</td>\n",
       "      <td>0.4</td>\n",
       "      <td>182</td>\n",
       "      <td>14</td>\n",
       "      <td>20</td>\n",
       "      <td>6.8</td>\n",
       "      <td>3.4</td>\n",
       "      <td>1.00</td>\n",
       "      <td>1</td>\n",
       "    </tr>\n",
       "    <tr>\n",
       "      <th>4</th>\n",
       "      <td>72</td>\n",
       "      <td>Male</td>\n",
       "      <td>3.9</td>\n",
       "      <td>2.0</td>\n",
       "      <td>195</td>\n",
       "      <td>27</td>\n",
       "      <td>59</td>\n",
       "      <td>7.3</td>\n",
       "      <td>2.4</td>\n",
       "      <td>0.40</td>\n",
       "      <td>1</td>\n",
       "    </tr>\n",
       "  </tbody>\n",
       "</table>\n",
       "</div>"
      ],
      "text/plain": [
       "   age  gender  tot_bilirubin  direct_bilirubin  alkphos  sgpt  sgot  \\\n",
       "0   65  Female            0.7               0.1      187    16    18   \n",
       "1   62    Male           10.9               5.5      699    64   100   \n",
       "2   62    Male            7.3               4.1      490    60    68   \n",
       "3   58    Male            1.0               0.4      182    14    20   \n",
       "4   72    Male            3.9               2.0      195    27    59   \n",
       "\n",
       "   tot_proteins  albumin  ag_ratio  is_patient  \n",
       "0           6.8      3.3      0.90           1  \n",
       "1           7.5      3.2      0.74           1  \n",
       "2           7.0      3.3      0.89           1  \n",
       "3           6.8      3.4      1.00           1  \n",
       "4           7.3      2.4      0.40           1  "
      ]
     },
     "execution_count": 15,
     "metadata": {},
     "output_type": "execute_result"
    }
   ],
   "source": [
    "# Loading dataset\n",
    "\n",
    "LiverDataset = pd.read_csv(URL_DATASET+'IndianLiverPatientDataset.csv',index_col=None,header=None)\n",
    "\n",
    "# Renaming attributes/columns\n",
    "\n",
    "attributes_names = dict(zip(range(11),Features+[Target]))\n",
    "LiverDataset.rename(columns=attributes_names,inplace=True)\n",
    "\n",
    "LiverDataset.head(5)"
   ]
  },
  {
   "cell_type": "markdown",
   "id": "1c63b9d9",
   "metadata": {},
   "source": [
    "The dataset has missing values in ``ag_ratio`` and the data types match the description of the dataset provided in [[1]](#references)"
   ]
  },
  {
   "cell_type": "code",
   "execution_count": null,
   "id": "ce6d919a",
   "metadata": {},
   "outputs": [
    {
     "name": "stdout",
     "output_type": "stream",
     "text": [
      "<class 'pandas.core.frame.DataFrame'>\n",
      "RangeIndex: 583 entries, 0 to 582\n",
      "Data columns (total 11 columns):\n",
      " #   Column            Non-Null Count  Dtype  \n",
      "---  ------            --------------  -----  \n",
      " 0   age               583 non-null    int64  \n",
      " 1   gender            583 non-null    object \n",
      " 2   tot_bilirubin     583 non-null    float64\n",
      " 3   direct_bilirubin  583 non-null    float64\n",
      " 4   alkphos           583 non-null    int64  \n",
      " 5   sgpt              583 non-null    int64  \n",
      " 6   sgot              583 non-null    int64  \n",
      " 7   tot_proteins      583 non-null    float64\n",
      " 8   albumin           583 non-null    float64\n",
      " 9   ag_ratio          579 non-null    float64\n",
      " 10  is_patient        583 non-null    int64  \n",
      "dtypes: float64(5), int64(5), object(1)\n",
      "memory usage: 50.2+ KB\n"
     ]
    }
   ],
   "source": [
    "# Exploring missing values and data types\n",
    "\n",
    "LiverDataset.info()"
   ]
  },
  {
   "cell_type": "markdown",
   "id": "05f80c1c",
   "metadata": {},
   "source": [
    "The values taken by the ``is_patient`` target are not the typical values of 1 and 0 or 'Yes' and 'No', but others. Therefore, when counting how many of each value there are, it is possible to determine which value corresponds to the positive and negative class of the dataset. And with that, values are transformed into 'Yes' and 'No' values."
   ]
  },
  {
   "cell_type": "code",
   "execution_count": 25,
   "id": "0db38b5a",
   "metadata": {},
   "outputs": [
    {
     "name": "stdout",
     "output_type": "stream",
     "text": [
      "Values of `is_patient` ::  [1 2]\n"
     ]
    },
    {
     "data": {
      "text/plain": [
       "is_patient\n",
       "1    416\n",
       "2    167\n",
       "dtype: int64"
      ]
     },
     "execution_count": 25,
     "metadata": {},
     "output_type": "execute_result"
    }
   ],
   "source": [
    "# Weird target value\n",
    "\n",
    "print('Values of `is_patient` :: ',LiverDataset.is_patient.unique())\n",
    "\n",
    "LiverDataset.groupby(Target).size()"
   ]
  },
  {
   "cell_type": "markdown",
   "id": "44ad9a1d",
   "metadata": {},
   "source": [
    "Because of the dataset contains records of 416 patients diagnosed with liver disease and 167 patients without liver disease, values with 1 correspond to 'Yes' and values with 2 correspond to 'No'."
   ]
  },
  {
   "cell_type": "code",
   "execution_count": 33,
   "id": "1c668a19",
   "metadata": {},
   "outputs": [
    {
     "data": {
      "text/plain": [
       "is_patient\n",
       "No     167\n",
       "Yes    416\n",
       "dtype: int64"
      ]
     },
     "execution_count": 33,
     "metadata": {},
     "output_type": "execute_result"
    }
   ],
   "source": [
    "# Transforming target values\n",
    "\n",
    "target_values = np.array(['No','Yes'])\n",
    "\n",
    "LiverDataset.is_patient = (target_values[LiverDataset.is_patient%2])\n",
    "\n",
    "LiverDataset.groupby(Target).size()"
   ]
  },
  {
   "cell_type": "code",
   "execution_count": null,
   "id": "6d1fe338",
   "metadata": {},
   "outputs": [
    {
     "name": "stdout",
     "output_type": "stream",
     "text": [
      "<class 'pandas.core.frame.DataFrame'>\n",
      "RangeIndex: 583 entries, 0 to 582\n",
      "Data columns (total 11 columns):\n",
      " #   Column            Non-Null Count  Dtype  \n",
      "---  ------            --------------  -----  \n",
      " 0   age               583 non-null    int64  \n",
      " 1   gender            583 non-null    object \n",
      " 2   tot_bilirubin     583 non-null    float64\n",
      " 3   direct_bilirubin  583 non-null    float64\n",
      " 4   alkphos           583 non-null    int64  \n",
      " 5   sgpt              583 non-null    int64  \n",
      " 6   sgot              583 non-null    int64  \n",
      " 7   tot_proteins      583 non-null    float64\n",
      " 8   albumin           583 non-null    float64\n",
      " 9   ag_ratio          579 non-null    float64\n",
      " 10  is_patient        583 non-null    object \n",
      "dtypes: float64(5), int64(4), object(2)\n",
      "memory usage: 50.2+ KB\n"
     ]
    }
   ],
   "source": [
    "# Checking data types\n",
    "\n",
    "LiverDataset.info()"
   ]
  },
  {
   "cell_type": "markdown",
   "id": "d5437838",
   "metadata": {},
   "source": [
    "# References"
   ]
  },
  {
   "cell_type": "markdown",
   "id": "72949285",
   "metadata": {},
   "source": [
    "* [1] B. Ramana and N. Venkateswarlu. \"ILPD (Indian Liver Patient Dataset),\" UCI Machine Learning Repository, 2022. [Online]. Available: https://doi.org/10.24432/C5D02C."
   ]
  }
 ],
 "metadata": {
  "kernelspec": {
   "display_name": "data_science",
   "language": "python",
   "name": "python3"
  },
  "language_info": {
   "codemirror_mode": {
    "name": "ipython",
    "version": 3
   },
   "file_extension": ".py",
   "mimetype": "text/x-python",
   "name": "python",
   "nbconvert_exporter": "python",
   "pygments_lexer": "ipython3",
   "version": "3.12.5"
  }
 },
 "nbformat": 4,
 "nbformat_minor": 5
}
